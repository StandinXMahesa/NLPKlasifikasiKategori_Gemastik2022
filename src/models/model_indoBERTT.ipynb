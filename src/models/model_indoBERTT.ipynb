{
 "cells": [
  {
   "cell_type": "code",
   "execution_count": 2,
   "metadata": {},
   "outputs": [],
   "source": [
    "import re\n",
    "import pandas as pd \n",
    "import numpy as np \n",
    "import random \n",
    "%matplotlib inline\n",
    "import matplotlib.pyplot as plt \n",
    "import seaborn as sns \n",
    "import tensorflow as tf "
   ]
  },
  {
   "cell_type": "code",
   "execution_count": 3,
   "metadata": {},
   "outputs": [
    {
     "data": {
      "text/html": [
       "<div>\n",
       "<style scoped>\n",
       "    .dataframe tbody tr th:only-of-type {\n",
       "        vertical-align: middle;\n",
       "    }\n",
       "\n",
       "    .dataframe tbody tr th {\n",
       "        vertical-align: top;\n",
       "    }\n",
       "\n",
       "    .dataframe thead th {\n",
       "        text-align: right;\n",
       "    }\n",
       "</style>\n",
       "<table border=\"1\" class=\"dataframe\">\n",
       "  <thead>\n",
       "    <tr style=\"text-align: right;\">\n",
       "      <th></th>\n",
       "      <th>title</th>\n",
       "      <th>label</th>\n",
       "    </tr>\n",
       "  </thead>\n",
       "  <tbody>\n",
       "    <tr>\n",
       "      <th>0</th>\n",
       "      <td>Stok Gula Aman, Pabrik Makanan Siap Ngebut Lagi</td>\n",
       "      <td>industri</td>\n",
       "    </tr>\n",
       "    <tr>\n",
       "      <th>1</th>\n",
       "      <td>Secuplik Nestapa Ethiopia, Negara Miskin yang ...</td>\n",
       "      <td>perang</td>\n",
       "    </tr>\n",
       "    <tr>\n",
       "      <th>2</th>\n",
       "      <td>Ssstt!! Ini Rahasia Tajir Jual-Beli Properti</td>\n",
       "      <td>properti</td>\n",
       "    </tr>\n",
       "    <tr>\n",
       "      <th>3</th>\n",
       "      <td>Menteri Era SBY Yakin Nadiem Makarim Majukan P...</td>\n",
       "      <td>teknologi</td>\n",
       "    </tr>\n",
       "    <tr>\n",
       "      <th>4</th>\n",
       "      <td>Dewan Kolonel Vs Dewan Kopral, Perang Dukungan...</td>\n",
       "      <td>perang</td>\n",
       "    </tr>\n",
       "  </tbody>\n",
       "</table>\n",
       "</div>"
      ],
      "text/plain": [
       "                                               title      label\n",
       "0    Stok Gula Aman, Pabrik Makanan Siap Ngebut Lagi   industri\n",
       "1  Secuplik Nestapa Ethiopia, Negara Miskin yang ...     perang\n",
       "2       Ssstt!! Ini Rahasia Tajir Jual-Beli Properti   properti\n",
       "3  Menteri Era SBY Yakin Nadiem Makarim Majukan P...  teknologi\n",
       "4  Dewan Kolonel Vs Dewan Kopral, Perang Dukungan...     perang"
      ]
     },
     "execution_count": 3,
     "metadata": {},
     "output_type": "execute_result"
    }
   ],
   "source": [
    "df = pd.read_csv(\"\\\\Users\\\\Mahesa\\\\Documents\\\\INI KULIAH BUKAN MAIN MAIN\\\\Competition\\\\GEMASTIK 2022\\\\Data Mining\\\\src\\data\\\\newsdatasetshuffle_4000.csv\")\n",
    "raw_data = df.iloc[:,3:].drop('timestamp', axis=1)\n",
    "raw_data.head()"
   ]
  },
  {
   "cell_type": "code",
   "execution_count": 4,
   "metadata": {},
   "outputs": [],
   "source": [
    "raw_data = raw_data.astype(str)"
   ]
  },
  {
   "cell_type": "code",
   "execution_count": 5,
   "metadata": {},
   "outputs": [
    {
     "data": {
      "text/plain": [
       "758"
      ]
     },
     "execution_count": 5,
     "metadata": {},
     "output_type": "execute_result"
    }
   ],
   "source": [
    "from nltk.tokenize import sent_tokenize, word_tokenize\n",
    "from nltk.corpus import stopwords\n",
    "\n",
    "stopwords_ind = stopwords.words('indonesian')\n",
    "len(stopwords_ind)"
   ]
  },
  {
   "cell_type": "code",
   "execution_count": 6,
   "metadata": {},
   "outputs": [
    {
     "data": {
      "text/html": [
       "<div>\n",
       "<style scoped>\n",
       "    .dataframe tbody tr th:only-of-type {\n",
       "        vertical-align: middle;\n",
       "    }\n",
       "\n",
       "    .dataframe tbody tr th {\n",
       "        vertical-align: top;\n",
       "    }\n",
       "\n",
       "    .dataframe thead th {\n",
       "        text-align: right;\n",
       "    }\n",
       "</style>\n",
       "<table border=\"1\" class=\"dataframe\">\n",
       "  <thead>\n",
       "    <tr style=\"text-align: right;\">\n",
       "      <th></th>\n",
       "      <th>title</th>\n",
       "      <th>label</th>\n",
       "    </tr>\n",
       "  </thead>\n",
       "  <tbody>\n",
       "    <tr>\n",
       "      <th>0</th>\n",
       "      <td>Stok Gula Aman, Pabrik Makanan Siap Ngebut Lagi</td>\n",
       "      <td>industri</td>\n",
       "    </tr>\n",
       "    <tr>\n",
       "      <th>1</th>\n",
       "      <td>Secuplik Nestapa Ethiopia, Negara Miskin yang ...</td>\n",
       "      <td>perang</td>\n",
       "    </tr>\n",
       "    <tr>\n",
       "      <th>2</th>\n",
       "      <td>Ssstt!! Ini Rahasia Tajir Jual-Beli Properti</td>\n",
       "      <td>properti</td>\n",
       "    </tr>\n",
       "    <tr>\n",
       "      <th>3</th>\n",
       "      <td>Menteri Era SBY Yakin Nadiem Makarim Majukan P...</td>\n",
       "      <td>teknologi</td>\n",
       "    </tr>\n",
       "    <tr>\n",
       "      <th>4</th>\n",
       "      <td>Dewan Kolonel Vs Dewan Kopral, Perang Dukungan...</td>\n",
       "      <td>perang</td>\n",
       "    </tr>\n",
       "    <tr>\n",
       "      <th>...</th>\n",
       "      <td>...</td>\n",
       "      <td>...</td>\n",
       "    </tr>\n",
       "    <tr>\n",
       "      <th>3995</th>\n",
       "      <td>Mudahkan Penanaman Modal di IKN, Pemerintah Si...</td>\n",
       "      <td>pemerintahan</td>\n",
       "    </tr>\n",
       "    <tr>\n",
       "      <th>3996</th>\n",
       "      <td>Warning! IMF Pangkas Proyeksi Ekonomi Dunia 20...</td>\n",
       "      <td>properti</td>\n",
       "    </tr>\n",
       "    <tr>\n",
       "      <th>3997</th>\n",
       "      <td>Mencekam! Pasukan Kurdi Kontak Senjata Lawan I...</td>\n",
       "      <td>perang</td>\n",
       "    </tr>\n",
       "    <tr>\n",
       "      <th>3998</th>\n",
       "      <td>10 Fakta Menarik Wajib Militer di Korea Selatan</td>\n",
       "      <td>pemerintahan</td>\n",
       "    </tr>\n",
       "    <tr>\n",
       "      <th>3999</th>\n",
       "      <td>Gen Z Beli Rumah dengan Gaji UMR, Bisakah?</td>\n",
       "      <td>properti</td>\n",
       "    </tr>\n",
       "  </tbody>\n",
       "</table>\n",
       "<p>4000 rows × 2 columns</p>\n",
       "</div>"
      ],
      "text/plain": [
       "                                                  title         label\n",
       "0       Stok Gula Aman, Pabrik Makanan Siap Ngebut Lagi      industri\n",
       "1     Secuplik Nestapa Ethiopia, Negara Miskin yang ...        perang\n",
       "2          Ssstt!! Ini Rahasia Tajir Jual-Beli Properti      properti\n",
       "3     Menteri Era SBY Yakin Nadiem Makarim Majukan P...     teknologi\n",
       "4     Dewan Kolonel Vs Dewan Kopral, Perang Dukungan...        perang\n",
       "...                                                 ...           ...\n",
       "3995  Mudahkan Penanaman Modal di IKN, Pemerintah Si...  pemerintahan\n",
       "3996  Warning! IMF Pangkas Proyeksi Ekonomi Dunia 20...      properti\n",
       "3997  Mencekam! Pasukan Kurdi Kontak Senjata Lawan I...        perang\n",
       "3998    10 Fakta Menarik Wajib Militer di Korea Selatan  pemerintahan\n",
       "3999         Gen Z Beli Rumah dengan Gaji UMR, Bisakah?      properti\n",
       "\n",
       "[4000 rows x 2 columns]"
      ]
     },
     "execution_count": 6,
     "metadata": {},
     "output_type": "execute_result"
    }
   ],
   "source": [
    "from Sastrawi.Stemmer.StemmerFactory import StemmerFactory\n",
    "\n",
    "def remove_stop_words(text):\n",
    "  clean_words = []\n",
    "  text = text.split()\n",
    "  for word in text:\n",
    "      if word not in stopwords_ind:\n",
    "          clean_words.append(word)\n",
    "  return \" \".join(clean_words)\n",
    "\n",
    "factory = StemmerFactory()\n",
    "stemmer = factory.create_stemmer()\n",
    "\n",
    "# Buat fungsi untuk langkah stemming bahasa Indonesia\n",
    "def stemming(text):\n",
    "  text = stemmer.stem(text)\n",
    "  return text\n",
    "raw_data"
   ]
  },
  {
   "cell_type": "code",
   "execution_count": 7,
   "metadata": {},
   "outputs": [
    {
     "name": "stdout",
     "output_type": "stream",
     "text": [
      "Wall time: 0 ns\n"
     ]
    }
   ],
   "source": [
    "def text_preprocessing(text):\n",
    "  text = text.lower()                               # Mengubah teks menjadi lower case\n",
    "  text = re.sub(r'https?://\\S+|www\\.\\S+', '', text) # Menghapus URL\n",
    "  text = re.sub(r'[-+]?[0-9]+', '', text)           # Menghapus angka\n",
    "  text = re.sub(r'[^\\w\\s]','', text)                # Menghapus karakter tanda baca\n",
    "  text = text.strip()                               # Menghapus whitespaces\n",
    "  return text\n",
    "\n",
    "%time\n",
    "raw_data['title'] = raw_data['title'].apply(text_preprocessing)\n",
    "raw_data['title'] = raw_data['title'].apply(remove_stop_words)\n",
    "raw_data['title'] = raw_data['title'].apply(stemming)"
   ]
  },
  {
   "cell_type": "code",
   "execution_count": 8,
   "metadata": {},
   "outputs": [
    {
     "data": {
      "text/html": [
       "<div>\n",
       "<style scoped>\n",
       "    .dataframe tbody tr th:only-of-type {\n",
       "        vertical-align: middle;\n",
       "    }\n",
       "\n",
       "    .dataframe tbody tr th {\n",
       "        vertical-align: top;\n",
       "    }\n",
       "\n",
       "    .dataframe thead th {\n",
       "        text-align: right;\n",
       "    }\n",
       "</style>\n",
       "<table border=\"1\" class=\"dataframe\">\n",
       "  <thead>\n",
       "    <tr style=\"text-align: right;\">\n",
       "      <th></th>\n",
       "      <th>title</th>\n",
       "      <th>label</th>\n",
       "    </tr>\n",
       "  </thead>\n",
       "  <tbody>\n",
       "    <tr>\n",
       "      <th>0</th>\n",
       "      <td>stok gula aman pabrik makan ngebut</td>\n",
       "      <td>industri</td>\n",
       "    </tr>\n",
       "    <tr>\n",
       "      <th>1</th>\n",
       "      <td>cuplik nestapa ethiopia negara miskin jebak pe...</td>\n",
       "      <td>perang</td>\n",
       "    </tr>\n",
       "    <tr>\n",
       "      <th>2</th>\n",
       "      <td>ssstt rahasia tajir jualbeli properti</td>\n",
       "      <td>properti</td>\n",
       "    </tr>\n",
       "    <tr>\n",
       "      <th>3</th>\n",
       "      <td>menteri era sby nadiem makarim maju didik ri</td>\n",
       "      <td>teknologi</td>\n",
       "    </tr>\n",
       "    <tr>\n",
       "      <th>4</th>\n",
       "      <td>dewan kolonel vs dewan kopral perang dukung pu...</td>\n",
       "      <td>perang</td>\n",
       "    </tr>\n",
       "  </tbody>\n",
       "</table>\n",
       "</div>"
      ],
      "text/plain": [
       "                                               title      label\n",
       "0                 stok gula aman pabrik makan ngebut   industri\n",
       "1  cuplik nestapa ethiopia negara miskin jebak pe...     perang\n",
       "2              ssstt rahasia tajir jualbeli properti   properti\n",
       "3       menteri era sby nadiem makarim maju didik ri  teknologi\n",
       "4  dewan kolonel vs dewan kopral perang dukung pu...     perang"
      ]
     },
     "execution_count": 8,
     "metadata": {},
     "output_type": "execute_result"
    }
   ],
   "source": [
    "raw_data.head()"
   ]
  },
  {
   "cell_type": "code",
   "execution_count": 9,
   "metadata": {},
   "outputs": [],
   "source": [
    "from sklearn.preprocessing import LabelEncoder\n",
    "\n",
    "le = LabelEncoder()\n",
    "raw_data['label'] = le.fit_transform(raw_data['label'])"
   ]
  },
  {
   "cell_type": "code",
   "execution_count": 10,
   "metadata": {},
   "outputs": [
    {
     "data": {
      "text/html": [
       "<div>\n",
       "<style scoped>\n",
       "    .dataframe tbody tr th:only-of-type {\n",
       "        vertical-align: middle;\n",
       "    }\n",
       "\n",
       "    .dataframe tbody tr th {\n",
       "        vertical-align: top;\n",
       "    }\n",
       "\n",
       "    .dataframe thead th {\n",
       "        text-align: right;\n",
       "    }\n",
       "</style>\n",
       "<table border=\"1\" class=\"dataframe\">\n",
       "  <thead>\n",
       "    <tr style=\"text-align: right;\">\n",
       "      <th></th>\n",
       "      <th>title</th>\n",
       "      <th>label</th>\n",
       "    </tr>\n",
       "  </thead>\n",
       "  <tbody>\n",
       "    <tr>\n",
       "      <th>0</th>\n",
       "      <td>stok gula aman pabrik makan ngebut</td>\n",
       "      <td>0</td>\n",
       "    </tr>\n",
       "    <tr>\n",
       "      <th>1</th>\n",
       "      <td>cuplik nestapa ethiopia negara miskin jebak pe...</td>\n",
       "      <td>2</td>\n",
       "    </tr>\n",
       "    <tr>\n",
       "      <th>2</th>\n",
       "      <td>ssstt rahasia tajir jualbeli properti</td>\n",
       "      <td>3</td>\n",
       "    </tr>\n",
       "    <tr>\n",
       "      <th>3</th>\n",
       "      <td>menteri era sby nadiem makarim maju didik ri</td>\n",
       "      <td>4</td>\n",
       "    </tr>\n",
       "    <tr>\n",
       "      <th>4</th>\n",
       "      <td>dewan kolonel vs dewan kopral perang dukung pu...</td>\n",
       "      <td>2</td>\n",
       "    </tr>\n",
       "  </tbody>\n",
       "</table>\n",
       "</div>"
      ],
      "text/plain": [
       "                                               title  label\n",
       "0                 stok gula aman pabrik makan ngebut      0\n",
       "1  cuplik nestapa ethiopia negara miskin jebak pe...      2\n",
       "2              ssstt rahasia tajir jualbeli properti      3\n",
       "3       menteri era sby nadiem makarim maju didik ri      4\n",
       "4  dewan kolonel vs dewan kopral perang dukung pu...      2"
      ]
     },
     "execution_count": 10,
     "metadata": {},
     "output_type": "execute_result"
    }
   ],
   "source": [
    "raw_data.head()"
   ]
  },
  {
   "cell_type": "code",
   "execution_count": 11,
   "metadata": {},
   "outputs": [
    {
     "data": {
      "text/plain": [
       "array(['industri', 'pemerintahan', 'perang', 'properti', 'teknologi'],\n",
       "      dtype=object)"
      ]
     },
     "execution_count": 11,
     "metadata": {},
     "output_type": "execute_result"
    }
   ],
   "source": [
    "le.classes_"
   ]
  },
  {
   "cell_type": "code",
   "execution_count": 12,
   "metadata": {},
   "outputs": [
    {
     "data": {
      "text/plain": [
       "((3400, 2), (300, 2), (300, 2))"
      ]
     },
     "execution_count": 12,
     "metadata": {},
     "output_type": "execute_result"
    }
   ],
   "source": [
    "from sklearn.model_selection import train_test_split\n",
    "\n",
    "df_train, df_test = train_test_split(raw_data, test_size=0.15,random_state=10)\n",
    "df_val, df_test = train_test_split(df_test, test_size=0.5,random_state=10)\n",
    "\n",
    "df_train.shape, df_test.shape, df_val.shape"
   ]
  },
  {
   "cell_type": "code",
   "execution_count": 13,
   "metadata": {},
   "outputs": [],
   "source": [
    "PRE_TRAINED_MODEL = 'indobenchmark/indobert-base-p2'\n",
    "from transformers import BertTokenizer\n",
    "\n",
    "bert_tokenizer = BertTokenizer.from_pretrained(PRE_TRAINED_MODEL)"
   ]
  },
  {
   "cell_type": "code",
   "execution_count": 14,
   "metadata": {},
   "outputs": [
    {
     "name": "stdout",
     "output_type": "stream",
     "text": [
      "Panjang vocabulary: 30521\n"
     ]
    }
   ],
   "source": [
    "vocabulary = bert_tokenizer.get_vocab()\n",
    "\n",
    "print('Panjang vocabulary:', len(vocabulary))"
   ]
  },
  {
   "cell_type": "code",
   "execution_count": 15,
   "metadata": {},
   "outputs": [
    {
     "name": "stdout",
     "output_type": "stream",
     "text": [
      "Kalimat: anakanak lansia lviv ukraina latih senjata\n",
      "BERT Tokenizer: ['anakanak', 'lansia', 'lv', '##iv', 'ukraina', 'latih', 'senjata']\n"
     ]
    }
   ],
   "source": [
    "print('Kalimat:', raw_data.title[10])\n",
    "print('BERT Tokenizer:', bert_tokenizer.tokenize(raw_data.title[10]))"
   ]
  },
  {
   "cell_type": "code",
   "execution_count": 16,
   "metadata": {},
   "outputs": [
    {
     "data": {
      "text/plain": [
       "dict_keys(['input_ids', 'token_type_ids', 'attention_mask'])"
      ]
     },
     "execution_count": 16,
     "metadata": {},
     "output_type": "execute_result"
    }
   ],
   "source": [
    "bert_input = bert_tokenizer.encode_plus(\n",
    "    raw_data.title[10],             # Sample kalimat                \n",
    "    add_special_tokens = True,      # Tambahkan token [CLS] pada awal kalimat dan token [SEP] pada akhir kalimat\n",
    "    padding = 'max_length',         # Tambahkan padding ke max_length menggunakan token [PAD] jika kalimat kurang dari max_length\n",
    "    truncation = 'longest_first',   # Truncate jika kalimat lebih dari max_length\n",
    "    max_length = 40,                # Tentukan max_length dari seluruh kalimat\n",
    "    return_attention_mask = True,   # Mengembalikan nilai attention mask\n",
    "    return_token_type_ids =True     # Mengembalikan nilai token type id (segment embedding)\n",
    "    )\n",
    "\n",
    "# Fungsi `encode_plus` mengembalikan 3 nilai: input_ids, token_type_ids, attention_mask\n",
    "bert_input.keys()"
   ]
  },
  {
   "cell_type": "code",
   "execution_count": 17,
   "metadata": {},
   "outputs": [
    {
     "name": "stdout",
     "output_type": "stream",
     "text": [
      "Kalimat\t\t: anakanak lansia lviv ukraina latih senjata\n",
      "Tokenizer\t: ['[CLS]', 'anakanak', 'lansia', 'lv', '##iv', 'ukraina', 'latih', 'senjata', '[SEP]', '[PAD]', '[PAD]', '[PAD]', '[PAD]', '[PAD]', '[PAD]', '[PAD]', '[PAD]', '[PAD]', '[PAD]', '[PAD]', '[PAD]', '[PAD]', '[PAD]', '[PAD]', '[PAD]', '[PAD]', '[PAD]', '[PAD]', '[PAD]', '[PAD]', '[PAD]', '[PAD]', '[PAD]', '[PAD]', '[PAD]', '[PAD]', '[PAD]', '[PAD]', '[PAD]', '[PAD]']\n",
      "Input IDs\t: [2, 1739, 12919, 24116, 624, 20803, 21546, 4481, 3, 0, 0, 0, 0, 0, 0, 0, 0, 0, 0, 0, 0, 0, 0, 0, 0, 0, 0, 0, 0, 0, 0, 0, 0, 0, 0, 0, 0, 0, 0, 0]\n",
      "Token Type IDs\t: [0, 0, 0, 0, 0, 0, 0, 0, 0, 0, 0, 0, 0, 0, 0, 0, 0, 0, 0, 0, 0, 0, 0, 0, 0, 0, 0, 0, 0, 0, 0, 0, 0, 0, 0, 0, 0, 0, 0, 0]\n",
      "Attention Mask\t: [1, 1, 1, 1, 1, 1, 1, 1, 1, 0, 0, 0, 0, 0, 0, 0, 0, 0, 0, 0, 0, 0, 0, 0, 0, 0, 0, 0, 0, 0, 0, 0, 0, 0, 0, 0, 0, 0, 0, 0]\n"
     ]
    }
   ],
   "source": [
    "print('Kalimat\\t\\t:', raw_data.title[10])                                           # Data asli\n",
    "print('Tokenizer\\t:', bert_tokenizer.convert_ids_to_tokens(bert_input['input_ids']))    # Hasil input formatting + tokenizer\n",
    "print('Input IDs\\t:', bert_input['input_ids'])                                          # Input IDs : indeks token pada vocabulary tokenizer\n",
    "print('Token Type IDs\\t:', bert_input['token_type_ids'])                                # Token type IDs : menunjukkan urutan kalimat pada sequence (segment embedding)\n",
    "print('Attention Mask\\t:', bert_input['attention_mask'])                                # Attention mask : mengembalikan nilai [0,1]. 1 artinya token yang di masking, 0 token yang tidak di masking (diabaikan)"
   ]
  },
  {
   "cell_type": "code",
   "execution_count": 18,
   "metadata": {},
   "outputs": [
    {
     "data": {
      "image/png": "[encoded data removed]",
      "text/plain": [
       "<Figure size 432x288 with 1 Axes>"
      ]
     },
     "metadata": {
      "needs_background": "light"
     },
     "output_type": "display_data"
    }
   ],
   "source": [
    "# Menentukan Max Length\n",
    "token_lens = []\n",
    "\n",
    "for txt in raw_data.title:\n",
    "  tokens = bert_tokenizer.encode(txt)\n",
    "  token_lens.append(len(tokens))\n",
    "\n",
    "sns.histplot(token_lens, kde=True, stat='density', linewidth=0)\n",
    "plt.xlim([0, 50]);\n",
    "plt.xlabel('Token count');"
   ]
  },
  {
   "cell_type": "code",
   "execution_count": 19,
   "metadata": {},
   "outputs": [],
   "source": [
    "# ENCODE\n",
    "MAX_LEN = 40\n",
    "def convert_example_to_feature(sentence):  \n",
    "  return bert_tokenizer.encode_plus(\n",
    "      sentence, \n",
    "      add_special_tokens = True, \n",
    "      padding = 'max_length',\n",
    "      truncation = 'longest_first',\n",
    "      max_length = MAX_LEN, \n",
    "      return_attention_mask = True, \n",
    "      return_token_type_ids=True\n",
    "    )\n",
    "  \n",
    "def map_example_to_dict(input_ids, attention_masks, token_type_ids, label):\n",
    "  return {\n",
    "      \"input_ids\": input_ids,               # Sebagai token embedding\n",
    "      \"token_type_ids\": token_type_ids,     # Sebagai segment embedding\n",
    "      \"attention_mask\": attention_masks,    # Sebagai filter informasi mana yang kalkulasi oleh model\n",
    "  }, label\n",
    "\n",
    "def encode(data):\n",
    "  input_ids_list = []\n",
    "  token_type_ids_list = []\n",
    "  attention_mask_list = []\n",
    "  label_list = []\n",
    "    \n",
    "  for sentence, label in data.to_numpy():\n",
    "\n",
    "    bert_input = convert_example_to_feature(sentence)\n",
    "  \n",
    "    input_ids_list.append(bert_input['input_ids'])\n",
    "    token_type_ids_list.append(bert_input['token_type_ids'])\n",
    "    attention_mask_list.append(bert_input['attention_mask'])\n",
    "    label_list.append([label])\n",
    "\n",
    "  return tf.data.Dataset.from_tensor_slices((input_ids_list, attention_mask_list, token_type_ids_list, label_list)).map(map_example_to_dict)"
   ]
  },
  {
   "cell_type": "code",
   "execution_count": 20,
   "metadata": {},
   "outputs": [],
   "source": [
    "EPOCHS = 5\n",
    "BATCH_SIZE = 32\n",
    "LEARNING_RATE = 7e-5"
   ]
  },
  {
   "cell_type": "code",
   "execution_count": 21,
   "metadata": {},
   "outputs": [],
   "source": [
    "train_encoded = encode(df_train).batch(BATCH_SIZE)\n",
    "test_encoded = encode(df_test).batch(BATCH_SIZE)\n",
    "val_encoded = encode(df_val).batch(BATCH_SIZE)"
   ]
  },
  {
   "cell_type": "code",
   "execution_count": 22,
   "metadata": {},
   "outputs": [
    {
     "name": "stderr",
     "output_type": "stream",
     "text": [
      "All model checkpoint layers were used when initializing TFBertForSequenceClassification.\n",
      "\n",
      "Some layers of TFBertForSequenceClassification were not initialized from the model checkpoint at indobenchmark/indobert-base-p2 and are newly initialized: ['classifier']\n",
      "You should probably TRAIN this model on a down-stream task to be able to use it for predictions and inference.\n"
     ]
    }
   ],
   "source": [
    "from transformers import TFBertForSequenceClassification,BertConfig\n",
    "\n",
    "\n",
    "\n",
    "# Load model\n",
    "config = BertConfig.from_pretrained(PRE_TRAINED_MODEL)\n",
    "config.num_labels = 5\n",
    "bert_model = TFBertForSequenceClassification.from_pretrained(PRE_TRAINED_MODEL, config=config)\n",
    "# bert_model.hidden_dropout_prob = 0.25\n",
    "# bert_model.attention_probs_dropout_prob = 0.25"
   ]
  },
  {
   "cell_type": "code",
   "execution_count": 23,
   "metadata": {},
   "outputs": [],
   "source": [
    "optimizer = tf.keras.optimizers.Adam(learning_rate=LEARNING_RATE)\n",
    "# optimizer = tf.keras.optimizers.experimental.AdamW(lr = LEARNING_RATE, weight_decay = 1e-2)\n",
    "# Karena tidak menggunakan one-hot vectors, sehingga loss function dapat menggunakan sparse categorical cross entropy\n",
    "loss = tf.keras.losses.SparseCategoricalCrossentropy(from_logits=True)\n",
    "metric = tf.keras.metrics.SparseCategoricalAccuracy('accuracy')\n",
    "\n",
    "# Compile modelLEARNING_RATE\n",
    "bert_model.compile(optimizer=optimizer, loss=loss, metrics=[metric])"
   ]
  },
  {
   "cell_type": "code",
   "execution_count": 24,
   "metadata": {},
   "outputs": [
    {
     "name": "stdout",
     "output_type": "stream",
     "text": [
      "Epoch 1/5\n",
      "107/107 [==============================] - 383s 3s/step - loss: 0.7674 - accuracy: 0.7215 - val_loss: 0.5519 - val_accuracy: 0.8100\n",
      "Epoch 2/5\n",
      "107/107 [==============================] - 346s 3s/step - loss: 0.4754 - accuracy: 0.8400 - val_loss: 0.5021 - val_accuracy: 0.8067\n",
      "Epoch 3/5\n",
      "107/107 [==============================] - 347s 3s/step - loss: 0.3678 - accuracy: 0.8779 - val_loss: 0.5321 - val_accuracy: 0.8167\n",
      "Epoch 4/5\n",
      "107/107 [==============================] - 349s 3s/step - loss: 0.3103 - accuracy: 0.8988 - val_loss: 0.6642 - val_accuracy: 0.7900\n",
      "Epoch 5/5\n",
      "107/107 [==============================] - 353s 3s/step - loss: 0.2640 - accuracy: 0.9203 - val_loss: 0.6373 - val_accuracy: 0.8033\n"
     ]
    }
   ],
   "source": [
    "bert_history = bert_model.fit(train_encoded, epochs=EPOCHS, batch_size=BATCH_SIZE, validation_data=val_encoded)"
   ]
  },
  {
   "cell_type": "code",
   "execution_count": 28,
   "metadata": {},
   "outputs": [
    {
     "data": {
      "image/png": "[encoded data removed]",
      "text/plain": [
       "<Figure size 432x288 with 1 Axes>"
      ]
     },
     "metadata": {
      "needs_background": "light"
     },
     "output_type": "display_data"
    },
    {
     "data": {
      "image/png": "[encoded data removed]",
      "text/plain": [
       "<Figure size 432x288 with 1 Axes>"
      ]
     },
     "metadata": {
      "needs_background": "light"
     },
     "output_type": "display_data"
    }
   ],
   "source": [
    "# Buat fungsi untuk plotting hasil training\n",
    "def plot_graphs(history, string):\n",
    "  plt.plot(history.history[string])\n",
    "  plt.plot(history.history['val_'+string])\n",
    "  plt.xlabel('Epochs')\n",
    "  plt.ylabel(string)\n",
    "  plt.legend([string, 'val_'+string])\n",
    "  plt.show()\n",
    "plot_graphs(bert_history, 'accuracy')\n",
    "plot_graphs(bert_history, 'loss')"
   ]
  },
  {
   "cell_type": "code",
   "execution_count": 38,
   "metadata": {},
   "outputs": [],
   "source": [
    "bert_model.save_weights('bert-model_rs10.h5')"
   ]
  },
  {
   "cell_type": "code",
   "execution_count": 39,
   "metadata": {},
   "outputs": [
    {
     "name": "stdout",
     "output_type": "stream",
     "text": [
      "10/10 [==============================] - 9s 917ms/step - loss: 1.0386 - accuracy: 0.7667\n",
      "Test Accuracy: 0.7666666507720947\n"
     ]
    }
   ],
   "source": [
    "score = bert_model.evaluate(test_encoded)\n",
    "\n",
    "print(\"Test Accuracy:\", score[1])"
   ]
  },
  {
   "cell_type": "code",
   "execution_count": 40,
   "metadata": {},
   "outputs": [],
   "source": [
    "# Sample text\n",
    "input_text = 'Waduh... Pabrik Batu Bara di Inggris Dihancurkan, Kenapa?'\n",
    "\n",
    "# Encode input text\n",
    "input_text_tokenized = bert_tokenizer.encode(input_text,\n",
    "                                             truncation=True,\n",
    "                                             padding='max_length',\n",
    "                                             return_tensors='tf')"
   ]
  },
  {
   "cell_type": "code",
   "execution_count": 41,
   "metadata": {},
   "outputs": [
    {
     "name": "stdout",
     "output_type": "stream",
     "text": [
      "[0]\n"
     ]
    }
   ],
   "source": [
    "bert_predict = bert_model(input_text_tokenized)          # Lakukan prediksi\n",
    "bert_output = tf.nn.softmax(bert_predict[0], axis=-1)         # Softmax function untuk mendapatkan hasil klasifikasi\n",
    "label = tf.argmax(bert_output, axis=1)\n",
    "label = label.numpy()\n",
    "print(label)"
   ]
  },
  {
   "cell_type": "code",
   "execution_count": 42,
   "metadata": {},
   "outputs": [],
   "source": [
    "from sklearn.metrics import classification_report\n",
    "from sklearn.metrics import confusion_matrix"
   ]
  },
  {
   "cell_type": "code",
   "execution_count": 43,
   "metadata": {},
   "outputs": [
    {
     "data": {
      "text/plain": [
       "array(['industri', 'pemerintahan', 'perang', 'properti', 'teknologi'],\n",
       "      dtype=object)"
      ]
     },
     "execution_count": 43,
     "metadata": {},
     "output_type": "execute_result"
    }
   ],
   "source": [
    "le.classes_"
   ]
  },
  {
   "cell_type": "code",
   "execution_count": 44,
   "metadata": {},
   "outputs": [
    {
     "data": {
      "text/html": [
       "<div>\n",
       "<style scoped>\n",
       "    .dataframe tbody tr th:only-of-type {\n",
       "        vertical-align: middle;\n",
       "    }\n",
       "\n",
       "    .dataframe tbody tr th {\n",
       "        vertical-align: top;\n",
       "    }\n",
       "\n",
       "    .dataframe thead th {\n",
       "        text-align: right;\n",
       "    }\n",
       "</style>\n",
       "<table border=\"1\" class=\"dataframe\">\n",
       "  <thead>\n",
       "    <tr style=\"text-align: right;\">\n",
       "      <th></th>\n",
       "      <th>title</th>\n",
       "      <th>label</th>\n",
       "    </tr>\n",
       "  </thead>\n",
       "  <tbody>\n",
       "    <tr>\n",
       "      <th>2515</th>\n",
       "      <td>ekonom top dunia krisis ngeri</td>\n",
       "      <td>2</td>\n",
       "    </tr>\n",
       "    <tr>\n",
       "      <th>3263</th>\n",
       "      <td>manajemen kontraktor muka rampung apartemen ke...</td>\n",
       "      <td>3</td>\n",
       "    </tr>\n",
       "    <tr>\n",
       "      <th>775</th>\n",
       "      <td>psi pecat suprapti jual dawet kanjuruhan</td>\n",
       "      <td>1</td>\n",
       "    </tr>\n",
       "    <tr>\n",
       "      <th>705</th>\n",
       "      <td>pakai makam teknologi chatbot ngobrol orang ti...</td>\n",
       "      <td>4</td>\n",
       "    </tr>\n",
       "    <tr>\n",
       "      <th>85</th>\n",
       "      <td>tumbuh bca revisi target kredit lompat</td>\n",
       "      <td>3</td>\n",
       "    </tr>\n",
       "  </tbody>\n",
       "</table>\n",
       "</div>"
      ],
      "text/plain": [
       "                                                  title  label\n",
       "2515                      ekonom top dunia krisis ngeri      2\n",
       "3263  manajemen kontraktor muka rampung apartemen ke...      3\n",
       "775            psi pecat suprapti jual dawet kanjuruhan      1\n",
       "705   pakai makam teknologi chatbot ngobrol orang ti...      4\n",
       "85               tumbuh bca revisi target kredit lompat      3"
      ]
     },
     "execution_count": 44,
     "metadata": {},
     "output_type": "execute_result"
    }
   ],
   "source": [
    "df_test.head()"
   ]
  },
  {
   "cell_type": "code",
   "execution_count": 45,
   "metadata": {},
   "outputs": [],
   "source": [
    "def predict_test(data):\n",
    "    predict_y = []\n",
    "    for i in data:\n",
    "        input_text_tokenized = bert_tokenizer.encode(i,\n",
    "                                                truncation=True,\n",
    "                                                padding='max_length',\n",
    "                                                return_tensors='tf')\n",
    "        bert_predict = bert_model(input_text_tokenized)\n",
    "        bert_output = tf.nn.softmax(bert_predict[0], axis=-1)\n",
    "        label = tf.argmax(bert_output, axis=1)\n",
    "        label = label.numpy()\n",
    "        predict_y.append(label)\n",
    "    return predict_y\n",
    "\n",
    "predict_y = predict_test(df_test['title'].values)"
   ]
  },
  {
   "cell_type": "code",
   "execution_count": 46,
   "metadata": {},
   "outputs": [],
   "source": [
    "y = classification_report(df_test['label'].values,predict_y)"
   ]
  },
  {
   "cell_type": "code",
   "execution_count": 47,
   "metadata": {},
   "outputs": [
    {
     "name": "stdout",
     "output_type": "stream",
     "text": [
      "              precision    recall  f1-score   support\n",
      "\n",
      "    industri       0.62      0.72      0.67        53\n",
      "pemerintahan       0.79      0.77      0.78        71\n",
      "      perang       0.70      0.90      0.79        62\n",
      "    properti       0.95      0.68      0.79        56\n",
      "   teknologi       0.88      0.74      0.80        58\n",
      "\n",
      "    accuracy                           0.77       300\n",
      "   macro avg       0.79      0.76      0.77       300\n",
      "weighted avg       0.79      0.77      0.77       300\n",
      "\n"
     ]
    }
   ],
   "source": [
    "print(classification_report(df_test['label'].values,predict_y,target_names=le.classes_))"
   ]
  },
  {
   "cell_type": "code",
   "execution_count": 48,
   "metadata": {},
   "outputs": [
    {
     "name": "stdout",
     "output_type": "stream",
     "text": [
      "<class 'numpy.int32'>\n",
      "<class 'numpy.ndarray'>\n"
     ]
    }
   ],
   "source": [
    "print(type(df_test['label'].values[0]))\n",
    "print(type(predict_y[0]))"
   ]
  },
  {
   "cell_type": "code",
   "execution_count": 49,
   "metadata": {},
   "outputs": [
    {
     "data": {
      "text/plain": [
       "[Text(0, 0.5, 'industri'),\n",
       " Text(0, 1.5, 'pemerintahan'),\n",
       " Text(0, 2.5, 'perang'),\n",
       " Text(0, 3.5, 'properti'),\n",
       " Text(0, 4.5, 'teknologi')]"
      ]
     },
     "execution_count": 49,
     "metadata": {},
     "output_type": "execute_result"
    },
    {
     "data": {
      "image/png": "[encoded data removed]",
      "text/plain": [
       "<Figure size 720x504 with 2 Axes>"
      ]
     },
     "metadata": {
      "needs_background": "light"
     },
     "output_type": "display_data"
    }
   ],
   "source": [
    "fig, ax = plt.subplots(figsize=(10,7))\n",
    "sns.heatmap(confusion_matrix(df_test['label'].values, predict_y),annot=True,ax=ax)\n",
    "ax.set_xlabel('Predicted labels');ax.set_ylabel('True labels'); \n",
    "ax.set_title('Confusion Matrix'); \n",
    "ax.xaxis.set_ticklabels(le.classes_)\n",
    "ax.yaxis.set_ticklabels(le.classes_)"
   ]
  },
  {
   "cell_type": "code",
   "execution_count": 26,
   "metadata": {},
   "outputs": [
    {
     "name": "stderr",
     "output_type": "stream",
     "text": [
      "Asking to pad to max_length but no maximum length is provided and the model has no predefined maximum length. Default to no padding.\n",
      "Asking to truncate to max_length but no maximum length is provided and the model has no predefined maximum length. Default to no truncation.\n"
     ]
    }
   ],
   "source": [
    "lst = ['Pemerintah Menetapkan Batas Tarif Tertinggi Rapid Test Antigen Covid-19','Pemerintah Izinkan Warga di Bawah 45 Tahun Kembali Beraktivitas ','Pengamat Minta Pemerintah Tetap Buka Impor Produk dari Cina','Tuntut Upah Naik 13 Persen, Demo Buruh Nyalakan Smoke Bomb di Patung Kuda','BPS Beberkan Kondisi Ekspor RI ke Cina Selama Pandemi dan Perang Rusia-Ukraina','Perang Ukraina, Tentara Belarus Bergabung dengan Rusia','Jika Ukraina Bergabung NATO, Pejabat Rusia: Perang Dunia III Akan Terjadi','Ini Bahaya Radiasi Nuklir bagi Manusia Jika Perang Nuklir Dunia Terjadi','Alasan Gibran Wajibkan Industri Kecil dan Menengah di Solo Go Digital','Qualcomm, Razer dan Verizon Perkenalkan Perangkat Game 5G dengan Snapdragon G3x','Smarthome Samsung - Google: Apapun Perangkatnya, Aplikasinya Tetap','Energy Watch Beberkan Kendala Listrik Tenaga Surya: Belum Ada Teknologi Baterai Murah','Mahasiswa Universitas Teknologi Sumbawa Bikin Mobil Listrik, Namanya NgebUTS','Mandiri Festival Properti Indonesia 2022 Hadirkan 37 Projek dari 17 Pengembang','Pemerintah Maksimalkan Potensi Industri Kopi Nasional','Industri Haus Listrik Terancam Gulung Tikar, Kadin: Investor Pelan-pelan Pindah ke Luar Negeri','Manfaat Garam dalam Industri dan Medis Modern','CEO Avoskin Cerita Awal Bangun Usaha, Kumpulkan Tabungan Sejak Jadi Agen Properti','Festival Properti Indonesia Digelar, Ada Promo KPR Mandiri Berbunga 2,4 Persen','Deal, Ciputra Group Berkomitmen Bangun Properti 300 Hektar di IKN ']\n",
    "classes = ['industri', 'pemerintahan', 'perang', 'properti', 'teknologi']\n",
    "\n",
    "lst_new = []\n",
    "for i in range(len(lst)):\n",
    "    txt = text_preprocessing(lst[i])\n",
    "    txt_1 = remove_stop_words(txt)\n",
    "    txt_2 = stemming(txt_1)\n",
    "    # clean = vec_TF_IDF.fit_transform(txt_2)\n",
    "    # predict = model.predict(clean)\n",
    "    lst_new.append(txt_2)\n",
    "\n",
    "predict = []\n",
    "for i in lst_new:\n",
    "    input_text_tokenized = bert_tokenizer.encode(i,\n",
    "                                                truncation=True,\n",
    "                                                padding='max_length',\n",
    "                                                return_tensors='tf')\n",
    "    bert_predict = bert_model(input_text_tokenized)          \n",
    "    bert_output = tf.nn.softmax(bert_predict[0], axis=-1)         \n",
    "    label = tf.argmax(bert_output, axis=1)\n",
    "    label = label.numpy()[0]\n",
    "    \n",
    "    predict.append(label)"
   ]
  },
  {
   "cell_type": "code",
   "execution_count": 27,
   "metadata": {},
   "outputs": [
    {
     "name": "stdout",
     "output_type": "stream",
     "text": [
      "[1, 1, 1, 1, 2, 2, 2, 2, 0, 4, 4, 4, 4, 3, 0, 0, 0, 3, 3, 3]\n"
     ]
    }
   ],
   "source": [
    "print(predict)"
   ]
  },
  {
   "cell_type": "code",
   "execution_count": null,
   "metadata": {},
   "outputs": [],
   "source": []
  }
 ],
 "metadata": {
  "kernelspec": {
   "display_name": "Python 3.9.0 64-bit (system)",
   "language": "python",
   "name": "python3"
  },
  "language_info": {
   "codemirror_mode": {
    "name": "ipython",
    "version": 3
   },
   "file_extension": ".py",
   "mimetype": "text/x-python",
   "name": "python",
   "nbconvert_exporter": "python",
   "pygments_lexer": "ipython3",
   "version": "3.9.0"
  },
  "orig_nbformat": 4,
  "vscode": {
   "interpreter": {
    "hash": "6fff98fc3b3d81bd655c2cc48858186e4d9e2db7b515bf1c3221888f12a62f87"
   }
  }
 },
 "nbformat": 4,
 "nbformat_minor": 2
}
