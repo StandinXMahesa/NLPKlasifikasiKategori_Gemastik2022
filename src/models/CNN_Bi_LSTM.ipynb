{
 "cells": [
  {
   "cell_type": "code",
   "execution_count": 1,
   "id": "247de2bd",
   "metadata": {},
   "outputs": [],
   "source": [
    "import io\n",
    "import csv\n",
    "import tensorflow as tf\n",
    "import numpy as np\n",
    "from tensorflow.keras.preprocessing.text import Tokenizer\n",
    "from tensorflow.keras.preprocessing.sequence import pad_sequences\n",
    "import matplotlib.pyplot as plt\n",
    "from sklearn.model_selection import train_test_split\n",
    "from sklearn.metrics import classification_report\n",
    "from sklearn.metrics import confusion_matrix\n",
    "from sklearn.preprocessing import LabelEncoder\n",
    "import nltk"
   ]
  },
  {
   "cell_type": "code",
   "execution_count": 2,
   "id": "a24ffb61",
   "metadata": {},
   "outputs": [
    {
     "name": "stdout",
     "output_type": "stream",
     "text": [
      "Header:\n",
      "\n",
      ",source,url,title,timestamp,label\n",
      "\n",
      "Data point:\n",
      "\n",
      "0,detik,https://finance.detik.com/berita-ekonomi-bisnis/d-5543655/stok-gula-aman-pabrik-makanan-siap-ngebut-lagi,\"Stok Gula Aman, Pabrik Makanan Siap Ngebut Lagi\",23 Apr 2021 13:01 WIB,industri\n",
      "\n"
     ]
    }
   ],
   "source": [
    "with open(\"newsdatasetshuffle_4000.csv\", 'r') as csvfile:\n",
    "    print(f\"Header:\\n\\n{csvfile.readline()}\")\n",
    "    print(f\"Data point:\\n\\n{csvfile.readline()}\")"
   ]
  },
  {
   "cell_type": "code",
   "execution_count": 3,
   "id": "d876ea22",
   "metadata": {},
   "outputs": [],
   "source": [
    "NUM_WORDS = 10000\n",
    "EMBEDDING_DIM = 32\n",
    "MAXLEN = 40\n",
    "PADDING = 'post'\n",
    "OOV_TOKEN = \"<OOV>\"\n",
    "TRAINING_SPLIT = .85"
   ]
  },
  {
   "cell_type": "code",
   "execution_count": 4,
   "id": "c5029418",
   "metadata": {},
   "outputs": [],
   "source": [
    "def parse_data_from_file(filename):\n",
    "    sentences = []\n",
    "    labels = []\n",
    "    with open(filename, 'r', encoding='utf-8') as csvfile:\n",
    "        reader = csv.reader(csvfile, delimiter=',')\n",
    "        next(reader)\n",
    "        for row in reader:\n",
    "            labels.append(row[5])\n",
    "            sentence = row[3]\n",
    "            sentences.append(sentence)\n",
    "\n",
    "    return sentences, labels"
   ]
  },
  {
   "cell_type": "code",
   "execution_count": 5,
   "id": "e186d1b3",
   "metadata": {},
   "outputs": [
    {
     "name": "stdout",
     "output_type": "stream",
     "text": [
      "There are 4000 sentences in the dataset.\n",
      "\n",
      "There are 4000 labels in the dataset.\n",
      "\n",
      "The first 5 labels are ['industri', 'perang', 'properti', 'teknologi', 'perang']\n"
     ]
    }
   ],
   "source": [
    "sentences, labels = parse_data_from_file(\"\\\\Users\\\\Mahesa\\\\Documents\\\\INI KULIAH BUKAN MAIN MAIN\\\\Competition\\\\GEMASTIK 2022\\\\Data Mining\\\\src\\data\\\\newsdatasetshuffle_4000.csv\")\n",
    "\n",
    "print(f\"There are {len(sentences)} sentences in the dataset.\\n\")\n",
    "print(f\"There are {len(labels)} labels in the dataset.\\n\")\n",
    "print(f\"The first 5 labels are {labels[:5]}\")"
   ]
  },
  {
   "cell_type": "code",
   "execution_count": 6,
   "id": "a79aaee8",
   "metadata": {},
   "outputs": [
    {
     "data": {
      "text/plain": [
       "758"
      ]
     },
     "execution_count": 6,
     "metadata": {},
     "output_type": "execute_result"
    }
   ],
   "source": [
    "from nltk.tokenize import sent_tokenize, word_tokenize\n",
    "from nltk.corpus import stopwords\n",
    "\n",
    "stopwords_ind = stopwords.words('indonesian')\n",
    "len(stopwords_ind)"
   ]
  },
  {
   "cell_type": "code",
   "execution_count": 7,
   "id": "861de45a",
   "metadata": {},
   "outputs": [],
   "source": [
    "def remove_stop_words(text):\n",
    "  clean_words = []\n",
    "  text = text.split()\n",
    "  for word in text:\n",
    "      if word not in stopwords_ind:\n",
    "          clean_words.append(word)\n",
    "  return \" \".join(clean_words)"
   ]
  },
  {
   "cell_type": "code",
   "execution_count": 8,
   "id": "fa1d6b5e",
   "metadata": {},
   "outputs": [],
   "source": [
    "from Sastrawi.Stemmer.StemmerFactory import StemmerFactory\n",
    "\n",
    "factory = StemmerFactory()\n",
    "stemmer = factory.create_stemmer()\n",
    "\n",
    "# Buat fungsi untuk langkah stemming bahasa Indonesia\n",
    "def stemming(text):\n",
    "  text = stemmer.stem(text)\n",
    "  return text"
   ]
  },
  {
   "cell_type": "code",
   "execution_count": 9,
   "id": "918221c9",
   "metadata": {},
   "outputs": [],
   "source": [
    "def text_preprocessing_process(text):\n",
    "    text = remove_stop_words(text)\n",
    "    text = stemming(text)\n",
    "    return text"
   ]
  },
  {
   "cell_type": "code",
   "execution_count": 10,
   "id": "a0c3f658",
   "metadata": {},
   "outputs": [],
   "source": [
    "sentences_nostopword = []\n",
    "for i in sentences:\n",
    "    sentences_nostopword.append(text_preprocessing_process(i))\n",
    "sentences = sentences_nostopword"
   ]
  },
  {
   "cell_type": "code",
   "execution_count": 11,
   "id": "a73b2fdd",
   "metadata": {},
   "outputs": [],
   "source": [
    "def train_val_split(sentences, labels, training_split):\n",
    "    \n",
    "    train_sentences, validation_sentences, train_labels, validation_labels = train_test_split(sentences, labels, \n",
    "                                                                                              test_size=1-training_split,\n",
    "                                                                                              random_state=10)\n",
    "    validation_sentences, test_sentences, validation_labels, test_labels = train_test_split(validation_sentences,\n",
    "                                                                                            validation_labels,\n",
    "                                                                                            test_size=0.5,\n",
    "                                                                                            random_state=10)\n",
    "    \n",
    "    return train_sentences, validation_sentences, test_sentences, train_labels, validation_labels, test_labels"
   ]
  },
  {
   "cell_type": "code",
   "execution_count": 12,
   "id": "3455ba7e",
   "metadata": {},
   "outputs": [
    {
     "name": "stdout",
     "output_type": "stream",
     "text": [
      "There are 3399 sentences for training.\n",
      "\n",
      "There are 3399 labels for training.\n",
      "\n",
      "There are 300 sentences for validation.\n",
      "\n",
      "There are 300 labels for validation.\n",
      "\n",
      "There are 301 sentences for test.\n",
      "\n",
      "There are 301 labels for test.\n"
     ]
    }
   ],
   "source": [
    "train_sentences, val_sentences, test_sentences, train_labels, val_labels, test_labels = train_val_split(sentences, labels, TRAINING_SPLIT)\n",
    "\n",
    "print(f\"There are {len(train_sentences)} sentences for training.\\n\")\n",
    "print(f\"There are {len(train_labels)} labels for training.\\n\")\n",
    "print(f\"There are {len(val_sentences)} sentences for validation.\\n\")\n",
    "print(f\"There are {len(val_labels)} labels for validation.\\n\")\n",
    "print(f\"There are {len(test_sentences)} sentences for test.\\n\")\n",
    "print(f\"There are {len(test_labels)} labels for test.\")"
   ]
  },
  {
   "cell_type": "code",
   "execution_count": 13,
   "id": "8984c6c0",
   "metadata": {},
   "outputs": [],
   "source": [
    "def fit_tokenizer(train_sentences, num_words, oov_token):\n",
    "    \n",
    "    ### START CODE HERE\n",
    "    \n",
    "    # Instantiate the Tokenizer class, passing in the correct values for num_words and oov_token\n",
    "    tokenizer = Tokenizer(num_words=num_words, oov_token=oov_token)\n",
    "    \n",
    "    # Fit the tokenizer to the training sentences\n",
    "    tokenizer.fit_on_texts(train_sentences)\n",
    "    \n",
    "    ### END CODE HERE\n",
    "    \n",
    "    return tokenizer"
   ]
  },
  {
   "cell_type": "code",
   "execution_count": 14,
   "id": "6c395053",
   "metadata": {},
   "outputs": [
    {
     "name": "stdout",
     "output_type": "stream",
     "text": [
      "Vocabulary contains 4993 words\n",
      "\n",
      "<OOV> token included in vocabulary\n"
     ]
    }
   ],
   "source": [
    "tokenizer = fit_tokenizer(train_sentences, NUM_WORDS, OOV_TOKEN)\n",
    "word_index = tokenizer.word_index\n",
    "\n",
    "print(f\"Vocabulary contains {len(word_index)} words\\n\")\n",
    "print(\"<OOV> token included in vocabulary\" if \"<OOV>\" in word_index else \"<OOV> token NOT included in vocabulary\")"
   ]
  },
  {
   "cell_type": "code",
   "execution_count": 15,
   "id": "322dc3bd",
   "metadata": {},
   "outputs": [],
   "source": [
    "def seq_and_pad(sentences, tokenizer, padding, maxlen):\n",
    "    \"\"\"\n",
    "    Generates an array of token sequences and pads them to the same length\n",
    "    \n",
    "    Args:\n",
    "        sentences (list of string): list of sentences to tokenize and pad\n",
    "        tokenizer (object): Tokenizer instance containing the word-index dictionary\n",
    "        padding (string): type of padding to use\n",
    "        maxlen (int): maximum length of the token sequence\n",
    "    \n",
    "    Returns:\n",
    "        padded_sequences (array of int): tokenized sentences padded to the same length\n",
    "    \"\"\"    \n",
    "    ### START CODE HERE\n",
    "       \n",
    "    # Convert sentences to sequences\n",
    "    sequences = tokenizer.texts_to_sequences(sentences)\n",
    "    \n",
    "    # Pad the sequences using the correct padding and maxlen\n",
    "    padded_sequences = pad_sequences(sequences, padding=padding, maxlen=maxlen)\n",
    "    \n",
    "    ### END CODE HERE\n",
    "    \n",
    "    return padded_sequences"
   ]
  },
  {
   "cell_type": "code",
   "execution_count": 16,
   "id": "e7658f47",
   "metadata": {},
   "outputs": [
    {
     "name": "stdout",
     "output_type": "stream",
     "text": [
      "Padded training sequences have shape: (3399, 40)\n",
      "\n",
      "Padded validation sequences have shape: (300, 40)\n"
     ]
    }
   ],
   "source": [
    "train_padded_seq = seq_and_pad(train_sentences, tokenizer, PADDING, MAXLEN)\n",
    "val_padded_seq = seq_and_pad(val_sentences, tokenizer, PADDING, MAXLEN)\n",
    "test_padded_seq = seq_and_pad(test_sentences, tokenizer, PADDING, MAXLEN)\n",
    "\n",
    "print(f\"Padded training sequences have shape: {train_padded_seq.shape}\\n\")\n",
    "print(f\"Padded validation sequences have shape: {val_padded_seq.shape}\")"
   ]
  },
  {
   "cell_type": "code",
   "execution_count": 17,
   "id": "4c1c3c45",
   "metadata": {},
   "outputs": [],
   "source": [
    "def tokenize_labels(all_labels, split_labels):\n",
    "    \"\"\"\n",
    "    Tokenizes the labels\n",
    "    \n",
    "    Args:\n",
    "        all_labels (list of string): labels to generate the word-index from\n",
    "        split_labels (list of string): labels to tokenize\n",
    "    \n",
    "    Returns:\n",
    "        label_seq_np (array of int): tokenized labels\n",
    "    \"\"\"\n",
    "    ### START CODE HERE\n",
    "    \n",
    "    # Instantiate the Tokenizer (no additional arguments needed)\n",
    "    label_tokenizer = Tokenizer()\n",
    "    \n",
    "    # Fit the tokenizer on all the labels\n",
    "    label_tokenizer.fit_on_texts(all_labels)\n",
    "    \n",
    "    # Convert labels to sequences\n",
    "    label_seq = label_tokenizer.texts_to_sequences(split_labels)\n",
    "    \n",
    "    # Convert sequences to a numpy array. Don't forget to substact 1 from every entry in the array!\n",
    "    substracted_label_seq=[]\n",
    "    for i in label_seq:\n",
    "        for j in i:\n",
    "            substracted_label_seq.append([j-1])\n",
    "    \n",
    "    label_seq_np = np.array(substracted_label_seq)\n",
    "    \n",
    "    ### END CODE HERE\n",
    "    \n",
    "    return label_seq_np"
   ]
  },
  {
   "cell_type": "code",
   "execution_count": 18,
   "id": "1b976acb",
   "metadata": {},
   "outputs": [
    {
     "name": "stdout",
     "output_type": "stream",
     "text": [
      "First 10 labels of the training set should look like this:\n",
      "[[4]\n",
      " [3]\n",
      " [2]\n",
      " [2]\n",
      " [1]\n",
      " [3]\n",
      " [4]\n",
      " [1]\n",
      " [0]\n",
      " [1]]\n",
      "\n",
      "First 10 labels of the validation set should look like this:\n",
      "[[1]\n",
      " [4]\n",
      " [3]\n",
      " [2]\n",
      " [0]\n",
      " [0]\n",
      " [4]\n",
      " [1]\n",
      " [3]\n",
      " [3]]\n",
      "\n",
      "First 10 labels of the test set should look like this:\n",
      "[[1]\n",
      " [2]\n",
      " [2]\n",
      " [1]\n",
      " [1]\n",
      " [2]\n",
      " [0]\n",
      " [4]\n",
      " [4]\n",
      " [0]]\n",
      "\n",
      "Tokenized labels of the training set have shape: (3399, 1)\n",
      "\n",
      "Tokenized labels of the validation set have shape: (300, 1)\n",
      "\n",
      "Tokenized labels of the test set have shape: (301, 1)\n",
      "\n"
     ]
    }
   ],
   "source": [
    "train_label_seq = tokenize_labels(labels, train_labels)\n",
    "val_label_seq = tokenize_labels(labels, val_labels)\n",
    "test_label_seq = tokenize_labels(labels, test_labels)\n",
    "\n",
    "print(f\"First 10 labels of the training set should look like this:\\n{train_label_seq[:10]}\\n\")\n",
    "print(f\"First 10 labels of the validation set should look like this:\\n{val_label_seq[:10]}\\n\")\n",
    "print(f\"First 10 labels of the test set should look like this:\\n{test_label_seq[:10]}\\n\")\n",
    "print(f\"Tokenized labels of the training set have shape: {train_label_seq.shape}\\n\")\n",
    "print(f\"Tokenized labels of the validation set have shape: {val_label_seq.shape}\\n\")\n",
    "print(f\"Tokenized labels of the test set have shape: {test_label_seq.shape}\\n\")"
   ]
  },
  {
   "cell_type": "code",
   "execution_count": 19,
   "id": "17bdaa7e",
   "metadata": {},
   "outputs": [],
   "source": [
    "def create_model(num_words, embedding_dim, maxlen):\n",
    "    \"\"\"\n",
    "    Creates a text classifier model\n",
    "    \n",
    "    Args:\n",
    "        num_words (int): size of the vocabulary for the Embedding layer input\n",
    "        embedding_dim (int): dimensionality of the Embedding layer output\n",
    "        maxlen (int): length of the input sequences\n",
    "    \n",
    "    Returns:\n",
    "        model (tf.keras Model): the text classifier model\n",
    "    \"\"\"\n",
    "    \n",
    "    tf.random.set_seed(123)\n",
    "    \n",
    "    ### START CODE HERE\n",
    "    \n",
    "    model = tf.keras.Sequential([ \n",
    "        tf.keras.layers.Embedding(6650, 64, input_length=maxlen),\n",
    "        tf.keras.layers.Conv1D(128,10,activation='relu'),\n",
    "        tf.keras.layers.Bidirectional(tf.keras.layers.LSTM(64,return_sequences=True)),\n",
    "        tf.keras.layers.Bidirectional(tf.keras.layers.LSTM(64)),\n",
    "        tf.keras.layers.Dense(24, activation='relu'),\n",
    "        tf.keras.layers.Dense(5, activation='softmax')\n",
    "    ])\n",
    "    \n",
    "    model.compile(loss='sparse_categorical_crossentropy',\n",
    "                  optimizer=tf.keras.optimizers.Adam(learning_rate=7e-5),\n",
    "                  metrics=['accuracy']) \n",
    "\n",
    "    ### END CODE HERE\n",
    "\n",
    "    return model"
   ]
  },
  {
   "cell_type": "code",
   "execution_count": 20,
   "id": "aa5c7ab7",
   "metadata": {},
   "outputs": [
    {
     "name": "stdout",
     "output_type": "stream",
     "text": [
      "Epoch 1/5\n",
      "107/107 [==============================] - 9s 40ms/step - loss: 1.6093 - accuracy: 0.1992 - val_loss: 1.6080 - val_accuracy: 0.2133\n",
      "Epoch 2/5\n",
      "107/107 [==============================] - 3s 29ms/step - loss: 1.6058 - accuracy: 0.2424 - val_loss: 1.6018 - val_accuracy: 0.2567\n",
      "Epoch 3/5\n",
      "107/107 [==============================] - 3s 29ms/step - loss: 1.5541 - accuracy: 0.3913 - val_loss: 1.4145 - val_accuracy: 0.4500\n",
      "Epoch 4/5\n",
      "107/107 [==============================] - 3s 29ms/step - loss: 1.1113 - accuracy: 0.5675 - val_loss: 1.0201 - val_accuracy: 0.6100\n",
      "Epoch 5/5\n",
      "107/107 [==============================] - 3s 29ms/step - loss: 0.7920 - accuracy: 0.7205 - val_loss: 0.9449 - val_accuracy: 0.6333\n"
     ]
    }
   ],
   "source": [
    "model = create_model(NUM_WORDS, EMBEDDING_DIM, MAXLEN)\n",
    "\n",
    "history = model.fit(train_padded_seq, train_label_seq, epochs=5, validation_data=(val_padded_seq, val_label_seq))"
   ]
  },
  {
   "cell_type": "code",
   "execution_count": 21,
   "id": "19936520",
   "metadata": {},
   "outputs": [
    {
     "name": "stdout",
     "output_type": "stream",
     "text": [
      "[[0.02281499 0.6963468  0.04842293 0.1749368  0.05747848]\n",
      " [0.12429609 0.08967152 0.1823708  0.5662478  0.03741381]\n",
      " [0.04779948 0.06589492 0.6581232  0.22076522 0.00741723]\n",
      " ...\n",
      " [0.00525106 0.8894582  0.00716424 0.03662543 0.06150103]\n",
      " [0.2614111  0.04863881 0.00309098 0.18979721 0.49706188]\n",
      " [0.16975589 0.09215828 0.07249776 0.5848326  0.08075542]]\n"
     ]
    }
   ],
   "source": [
    "predict_y = model.predict(test_padded_seq)\n",
    "print(predict_y)"
   ]
  },
  {
   "cell_type": "code",
   "execution_count": 22,
   "id": "c643c9a2",
   "metadata": {},
   "outputs": [],
   "source": [
    "le = LabelEncoder()\n",
    "labels = le.fit_transform(labels)"
   ]
  },
  {
   "cell_type": "code",
   "execution_count": 23,
   "id": "287351df",
   "metadata": {},
   "outputs": [],
   "source": [
    "# print((test_label_seq))\n",
    "y_predict = []\n",
    "for i in predict_y:\n",
    "    y_predict.append(tf.argmax(i))\n",
    "y = classification_report(test_label_seq,y_predict, target_names=le.classes_)\n",
    "# print(y_predict)\n",
    "\n",
    "\n",
    "\n",
    "# test_label_seq"
   ]
  },
  {
   "cell_type": "code",
   "execution_count": 24,
   "id": "4134ba55",
   "metadata": {},
   "outputs": [
    {
     "name": "stdout",
     "output_type": "stream",
     "text": [
      "              precision    recall  f1-score   support\n",
      "\n",
      "    industri       0.72      0.42      0.53        50\n",
      "pemerintahan       0.82      0.83      0.82        65\n",
      "      perang       0.77      0.62      0.69        58\n",
      "    properti       0.45      0.66      0.54        56\n",
      "   teknologi       0.70      0.75      0.72        72\n",
      "\n",
      "    accuracy                           0.67       301\n",
      "   macro avg       0.69      0.66      0.66       301\n",
      "weighted avg       0.70      0.67      0.67       301\n",
      "\n"
     ]
    }
   ],
   "source": [
    "print(y)"
   ]
  },
  {
   "cell_type": "code",
   "execution_count": 25,
   "id": "f8d5a9f6",
   "metadata": {},
   "outputs": [
    {
     "data": {
      "text/plain": [
       "[Text(0, 0.5, 'industri'),\n",
       " Text(0, 1.5, 'pemerintahan'),\n",
       " Text(0, 2.5, 'perang'),\n",
       " Text(0, 3.5, 'properti'),\n",
       " Text(0, 4.5, 'teknologi')]"
      ]
     },
     "execution_count": 25,
     "metadata": {},
     "output_type": "execute_result"
    },
    {
     "data": {
      "image/png": "[encoded data removed]",
      "text/plain": [
       "<Figure size 720x504 with 2 Axes>"
      ]
     },
     "metadata": {
      "needs_background": "light"
     },
     "output_type": "display_data"
    }
   ],
   "source": [
    "import seaborn as sns\n",
    "fig, ax = plt.subplots(figsize=(10,7))\n",
    "sns.heatmap(confusion_matrix(test_label_seq, y_predict),annot=True,ax=ax)\n",
    "ax.set_xlabel('Predicted labels');ax.set_ylabel('True labels'); \n",
    "ax.set_title('Confusion Matrix'); \n",
    "ax.xaxis.set_ticklabels(le.classes_)\n",
    "ax.yaxis.set_ticklabels(le.classes_)"
   ]
  },
  {
   "cell_type": "code",
   "execution_count": 28,
   "id": "677539ef",
   "metadata": {},
   "outputs": [],
   "source": [
    "model.save('model/cnn_bi-lstm-model.h5')"
   ]
  },
  {
   "cell_type": "code",
   "execution_count": null,
   "id": "8042a4e1",
   "metadata": {},
   "outputs": [],
   "source": []
  }
 ],
 "metadata": {
  "kernelspec": {
   "display_name": "Python 3.9.0 64-bit (system)",
   "language": "python",
   "name": "python3"
  },
  "language_info": {
   "codemirror_mode": {
    "name": "ipython",
    "version": 3
   },
   "file_extension": ".py",
   "mimetype": "text/x-python",
   "name": "python",
   "nbconvert_exporter": "python",
   "pygments_lexer": "ipython3",
   "version": "3.9.0"
  },
  "vscode": {
   "interpreter": {
    "hash": "6fff98fc3b3d81bd655c2cc48858186e4d9e2db7b515bf1c3221888f12a62f87"
   }
  }
 },
 "nbformat": 4,
 "nbformat_minor": 5
}
