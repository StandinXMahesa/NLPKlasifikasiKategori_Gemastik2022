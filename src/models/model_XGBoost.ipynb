{
 "cells": [
  {
   "cell_type": "code",
   "execution_count": 1,
   "metadata": {},
   "outputs": [],
   "source": [
    "import re\n",
    "import pandas as pd \n",
    "import numpy as np \n",
    "import random \n",
    "%matplotlib inline\n",
    "import matplotlib.pyplot as plt \n",
    "import seaborn as sns \n",
    "import tensorflow as tf "
   ]
  },
  {
   "cell_type": "code",
   "execution_count": 2,
   "metadata": {},
   "outputs": [
    {
     "data": {
      "text/html": [
       "<div>\n",
       "<style scoped>\n",
       "    .dataframe tbody tr th:only-of-type {\n",
       "        vertical-align: middle;\n",
       "    }\n",
       "\n",
       "    .dataframe tbody tr th {\n",
       "        vertical-align: top;\n",
       "    }\n",
       "\n",
       "    .dataframe thead th {\n",
       "        text-align: right;\n",
       "    }\n",
       "</style>\n",
       "<table border=\"1\" class=\"dataframe\">\n",
       "  <thead>\n",
       "    <tr style=\"text-align: right;\">\n",
       "      <th></th>\n",
       "      <th>title</th>\n",
       "      <th>label</th>\n",
       "    </tr>\n",
       "  </thead>\n",
       "  <tbody>\n",
       "    <tr>\n",
       "      <th>0</th>\n",
       "      <td>Stok Gula Aman, Pabrik Makanan Siap Ngebut Lagi</td>\n",
       "      <td>industri</td>\n",
       "    </tr>\n",
       "    <tr>\n",
       "      <th>1</th>\n",
       "      <td>Secuplik Nestapa Ethiopia, Negara Miskin yang ...</td>\n",
       "      <td>perang</td>\n",
       "    </tr>\n",
       "    <tr>\n",
       "      <th>2</th>\n",
       "      <td>Ssstt!! Ini Rahasia Tajir Jual-Beli Properti</td>\n",
       "      <td>properti</td>\n",
       "    </tr>\n",
       "    <tr>\n",
       "      <th>3</th>\n",
       "      <td>Menteri Era SBY Yakin Nadiem Makarim Majukan P...</td>\n",
       "      <td>teknologi</td>\n",
       "    </tr>\n",
       "    <tr>\n",
       "      <th>4</th>\n",
       "      <td>Dewan Kolonel Vs Dewan Kopral, Perang Dukungan...</td>\n",
       "      <td>perang</td>\n",
       "    </tr>\n",
       "  </tbody>\n",
       "</table>\n",
       "</div>"
      ],
      "text/plain": [
       "                                               title      label\n",
       "0    Stok Gula Aman, Pabrik Makanan Siap Ngebut Lagi   industri\n",
       "1  Secuplik Nestapa Ethiopia, Negara Miskin yang ...     perang\n",
       "2       Ssstt!! Ini Rahasia Tajir Jual-Beli Properti   properti\n",
       "3  Menteri Era SBY Yakin Nadiem Makarim Majukan P...  teknologi\n",
       "4  Dewan Kolonel Vs Dewan Kopral, Perang Dukungan...     perang"
      ]
     },
     "execution_count": 2,
     "metadata": {},
     "output_type": "execute_result"
    }
   ],
   "source": [
    "df = pd.read_csv(\"src/data/newsdatasetshuffle_4000.csv\")\n",
    "raw_data = df.iloc[:,3:].drop('timestamp', axis=1)\n",
    "raw_data.head()"
   ]
  },
  {
   "cell_type": "code",
   "execution_count": 3,
   "metadata": {},
   "outputs": [],
   "source": [
    "raw_data = raw_data.astype(str)"
   ]
  },
  {
   "cell_type": "code",
   "execution_count": 4,
   "metadata": {},
   "outputs": [
    {
     "name": "stdout",
     "output_type": "stream",
     "text": [
      "Wall time: 0 ns\n"
     ]
    }
   ],
   "source": [
    "def text_preprocessing(text):\n",
    "  text = text.lower()                               # Mengubah teks menjadi lower case\n",
    "  text = re.sub(r'https?://\\S+|www\\.\\S+', '', text) # Menghapus URL\n",
    "  text = re.sub(r'[-+]?[0-9]+', '', text)           # Menghapus angka\n",
    "  text = re.sub(r'[^\\w\\s]','', text)                # Menghapus karakter tanda baca\n",
    "  text = text.strip()                               # Menghapus whitespaces\n",
    "  return text\n",
    "\n",
    "%time\n",
    "raw_data['title'] = raw_data['title'].apply(text_preprocessing)"
   ]
  },
  {
   "cell_type": "code",
   "execution_count": 5,
   "metadata": {},
   "outputs": [
    {
     "data": {
      "text/html": [
       "<div>\n",
       "<style scoped>\n",
       "    .dataframe tbody tr th:only-of-type {\n",
       "        vertical-align: middle;\n",
       "    }\n",
       "\n",
       "    .dataframe tbody tr th {\n",
       "        vertical-align: top;\n",
       "    }\n",
       "\n",
       "    .dataframe thead th {\n",
       "        text-align: right;\n",
       "    }\n",
       "</style>\n",
       "<table border=\"1\" class=\"dataframe\">\n",
       "  <thead>\n",
       "    <tr style=\"text-align: right;\">\n",
       "      <th></th>\n",
       "      <th>title</th>\n",
       "      <th>label</th>\n",
       "    </tr>\n",
       "  </thead>\n",
       "  <tbody>\n",
       "    <tr>\n",
       "      <th>0</th>\n",
       "      <td>stok gula aman pabrik makanan siap ngebut lagi</td>\n",
       "      <td>industri</td>\n",
       "    </tr>\n",
       "    <tr>\n",
       "      <th>1</th>\n",
       "      <td>secuplik nestapa ethiopia negara miskin yang t...</td>\n",
       "      <td>perang</td>\n",
       "    </tr>\n",
       "    <tr>\n",
       "      <th>2</th>\n",
       "      <td>ssstt ini rahasia tajir jualbeli properti</td>\n",
       "      <td>properti</td>\n",
       "    </tr>\n",
       "    <tr>\n",
       "      <th>3</th>\n",
       "      <td>menteri era sby yakin nadiem makarim majukan p...</td>\n",
       "      <td>teknologi</td>\n",
       "    </tr>\n",
       "    <tr>\n",
       "      <th>4</th>\n",
       "      <td>dewan kolonel vs dewan kopral perang dukungan ...</td>\n",
       "      <td>perang</td>\n",
       "    </tr>\n",
       "  </tbody>\n",
       "</table>\n",
       "</div>"
      ],
      "text/plain": [
       "                                               title      label\n",
       "0     stok gula aman pabrik makanan siap ngebut lagi   industri\n",
       "1  secuplik nestapa ethiopia negara miskin yang t...     perang\n",
       "2          ssstt ini rahasia tajir jualbeli properti   properti\n",
       "3  menteri era sby yakin nadiem makarim majukan p...  teknologi\n",
       "4  dewan kolonel vs dewan kopral perang dukungan ...     perang"
      ]
     },
     "execution_count": 5,
     "metadata": {},
     "output_type": "execute_result"
    }
   ],
   "source": [
    "raw_data.head()"
   ]
  },
  {
   "cell_type": "code",
   "execution_count": 6,
   "metadata": {},
   "outputs": [
    {
     "data": {
      "text/html": [
       "<div>\n",
       "<style scoped>\n",
       "    .dataframe tbody tr th:only-of-type {\n",
       "        vertical-align: middle;\n",
       "    }\n",
       "\n",
       "    .dataframe tbody tr th {\n",
       "        vertical-align: top;\n",
       "    }\n",
       "\n",
       "    .dataframe thead th {\n",
       "        text-align: right;\n",
       "    }\n",
       "</style>\n",
       "<table border=\"1\" class=\"dataframe\">\n",
       "  <thead>\n",
       "    <tr style=\"text-align: right;\">\n",
       "      <th></th>\n",
       "      <th>title</th>\n",
       "      <th>label</th>\n",
       "    </tr>\n",
       "  </thead>\n",
       "  <tbody>\n",
       "    <tr>\n",
       "      <th>0</th>\n",
       "      <td>stok gula aman pabrik makanan siap ngebut lagi</td>\n",
       "      <td>0</td>\n",
       "    </tr>\n",
       "    <tr>\n",
       "      <th>1</th>\n",
       "      <td>secuplik nestapa ethiopia negara miskin yang t...</td>\n",
       "      <td>2</td>\n",
       "    </tr>\n",
       "    <tr>\n",
       "      <th>2</th>\n",
       "      <td>ssstt ini rahasia tajir jualbeli properti</td>\n",
       "      <td>3</td>\n",
       "    </tr>\n",
       "    <tr>\n",
       "      <th>3</th>\n",
       "      <td>menteri era sby yakin nadiem makarim majukan p...</td>\n",
       "      <td>4</td>\n",
       "    </tr>\n",
       "    <tr>\n",
       "      <th>4</th>\n",
       "      <td>dewan kolonel vs dewan kopral perang dukungan ...</td>\n",
       "      <td>2</td>\n",
       "    </tr>\n",
       "  </tbody>\n",
       "</table>\n",
       "</div>"
      ],
      "text/plain": [
       "                                               title  label\n",
       "0     stok gula aman pabrik makanan siap ngebut lagi      0\n",
       "1  secuplik nestapa ethiopia negara miskin yang t...      2\n",
       "2          ssstt ini rahasia tajir jualbeli properti      3\n",
       "3  menteri era sby yakin nadiem makarim majukan p...      4\n",
       "4  dewan kolonel vs dewan kopral perang dukungan ...      2"
      ]
     },
     "execution_count": 6,
     "metadata": {},
     "output_type": "execute_result"
    }
   ],
   "source": [
    "from sklearn.preprocessing import LabelEncoder\n",
    "\n",
    "le = LabelEncoder()\n",
    "raw_data['label'] = le.fit_transform(raw_data['label'])\n",
    "raw_data.head()"
   ]
  },
  {
   "cell_type": "code",
   "execution_count": 7,
   "metadata": {},
   "outputs": [
    {
     "data": {
      "text/plain": [
       "array(['industri', 'pemerintahan', 'perang', 'properti', 'teknologi'],\n",
       "      dtype=object)"
      ]
     },
     "execution_count": 7,
     "metadata": {},
     "output_type": "execute_result"
    }
   ],
   "source": [
    "le.classes_"
   ]
  },
  {
   "cell_type": "code",
   "execution_count": 8,
   "metadata": {},
   "outputs": [
    {
     "data": {
      "text/plain": [
       "758"
      ]
     },
     "execution_count": 8,
     "metadata": {},
     "output_type": "execute_result"
    }
   ],
   "source": [
    "from nltk.tokenize import sent_tokenize, word_tokenize\n",
    "from nltk.corpus import stopwords\n",
    "\n",
    "stopwords_ind = stopwords.words('indonesian')\n",
    "len(stopwords_ind)"
   ]
  },
  {
   "cell_type": "code",
   "execution_count": 9,
   "metadata": {},
   "outputs": [],
   "source": [
    "def remove_stop_words(text):\n",
    "  clean_words = []\n",
    "  text = text.split()\n",
    "  for word in text:\n",
    "      if word not in stopwords_ind:\n",
    "          clean_words.append(word)\n",
    "  return \" \".join(clean_words)"
   ]
  },
  {
   "cell_type": "code",
   "execution_count": 10,
   "metadata": {},
   "outputs": [],
   "source": [
    "from Sastrawi.Stemmer.StemmerFactory import StemmerFactory\n",
    "\n",
    "factory = StemmerFactory()\n",
    "stemmer = factory.create_stemmer()\n",
    "\n",
    "# Buat fungsi untuk langkah stemming bahasa Indonesia\n",
    "def stemming(text):\n",
    "  text = stemmer.stem(text)\n",
    "  return text"
   ]
  },
  {
   "cell_type": "code",
   "execution_count": 11,
   "metadata": {},
   "outputs": [],
   "source": [
    "def text_preprocessing_process(text):\n",
    "    text = remove_stop_words(text)\n",
    "    text = stemming(text)\n",
    "    return text"
   ]
  },
  {
   "cell_type": "code",
   "execution_count": 12,
   "metadata": {},
   "outputs": [
    {
     "data": {
      "text/html": [
       "<div>\n",
       "<style scoped>\n",
       "    .dataframe tbody tr th:only-of-type {\n",
       "        vertical-align: middle;\n",
       "    }\n",
       "\n",
       "    .dataframe tbody tr th {\n",
       "        vertical-align: top;\n",
       "    }\n",
       "\n",
       "    .dataframe thead th {\n",
       "        text-align: right;\n",
       "    }\n",
       "</style>\n",
       "<table border=\"1\" class=\"dataframe\">\n",
       "  <thead>\n",
       "    <tr style=\"text-align: right;\">\n",
       "      <th></th>\n",
       "      <th>title</th>\n",
       "      <th>label</th>\n",
       "    </tr>\n",
       "  </thead>\n",
       "  <tbody>\n",
       "    <tr>\n",
       "      <th>0</th>\n",
       "      <td>stok gula aman pabrik makan ngebut</td>\n",
       "      <td>0</td>\n",
       "    </tr>\n",
       "    <tr>\n",
       "      <th>1</th>\n",
       "      <td>cuplik nestapa ethiopia negara miskin jebak pe...</td>\n",
       "      <td>2</td>\n",
       "    </tr>\n",
       "    <tr>\n",
       "      <th>2</th>\n",
       "      <td>ssstt rahasia tajir jualbeli properti</td>\n",
       "      <td>3</td>\n",
       "    </tr>\n",
       "    <tr>\n",
       "      <th>3</th>\n",
       "      <td>menteri era sby nadiem makarim maju didik ri</td>\n",
       "      <td>4</td>\n",
       "    </tr>\n",
       "    <tr>\n",
       "      <th>4</th>\n",
       "      <td>dewan kolonel vs dewan kopral perang dukung pu...</td>\n",
       "      <td>2</td>\n",
       "    </tr>\n",
       "    <tr>\n",
       "      <th>...</th>\n",
       "      <td>...</td>\n",
       "      <td>...</td>\n",
       "    </tr>\n",
       "    <tr>\n",
       "      <th>3995</th>\n",
       "      <td>mudah tanam modal ikn perintah siap rancang at...</td>\n",
       "      <td>1</td>\n",
       "    </tr>\n",
       "    <tr>\n",
       "      <th>3996</th>\n",
       "      <td>warning imf pangkas proyeksi ekonomi dunia</td>\n",
       "      <td>3</td>\n",
       "    </tr>\n",
       "    <tr>\n",
       "      <th>3997</th>\n",
       "      <td>cekam pasu kurdi kontak senjata lawan isis suriah</td>\n",
       "      <td>2</td>\n",
       "    </tr>\n",
       "    <tr>\n",
       "      <th>3998</th>\n",
       "      <td>fakta tarik wajib militer korea selatan</td>\n",
       "      <td>1</td>\n",
       "    </tr>\n",
       "    <tr>\n",
       "      <th>3999</th>\n",
       "      <td>gen z beli rumah gaji umr</td>\n",
       "      <td>3</td>\n",
       "    </tr>\n",
       "  </tbody>\n",
       "</table>\n",
       "<p>4000 rows × 2 columns</p>\n",
       "</div>"
      ],
      "text/plain": [
       "                                                  title  label\n",
       "0                    stok gula aman pabrik makan ngebut      0\n",
       "1     cuplik nestapa ethiopia negara miskin jebak pe...      2\n",
       "2                 ssstt rahasia tajir jualbeli properti      3\n",
       "3          menteri era sby nadiem makarim maju didik ri      4\n",
       "4     dewan kolonel vs dewan kopral perang dukung pu...      2\n",
       "...                                                 ...    ...\n",
       "3995  mudah tanam modal ikn perintah siap rancang at...      1\n",
       "3996         warning imf pangkas proyeksi ekonomi dunia      3\n",
       "3997  cekam pasu kurdi kontak senjata lawan isis suriah      2\n",
       "3998            fakta tarik wajib militer korea selatan      1\n",
       "3999                          gen z beli rumah gaji umr      3\n",
       "\n",
       "[4000 rows x 2 columns]"
      ]
     },
     "execution_count": 12,
     "metadata": {},
     "output_type": "execute_result"
    }
   ],
   "source": [
    "raw_data['title']=raw_data['title'].apply(text_preprocessing_process)\n",
    "raw_data"
   ]
  },
  {
   "cell_type": "code",
   "execution_count": 13,
   "metadata": {},
   "outputs": [
    {
     "data": {
      "text/plain": [
       "title    0\n",
       "label    0\n",
       "dtype: int64"
      ]
     },
     "execution_count": 13,
     "metadata": {},
     "output_type": "execute_result"
    }
   ],
   "source": [
    "raw_data.isnull().sum()"
   ]
  },
  {
   "cell_type": "code",
   "execution_count": 14,
   "metadata": {},
   "outputs": [
    {
     "data": {
      "text/plain": [
       "0    800\n",
       "2    800\n",
       "3    800\n",
       "4    800\n",
       "1    800\n",
       "Name: label, dtype: int64"
      ]
     },
     "execution_count": 14,
     "metadata": {},
     "output_type": "execute_result"
    }
   ],
   "source": [
    "raw_data['label'].value_counts()"
   ]
  },
  {
   "cell_type": "code",
   "execution_count": 15,
   "metadata": {},
   "outputs": [],
   "source": [
    "X = raw_data['title']\n",
    "y = raw_data['label']"
   ]
  },
  {
   "cell_type": "code",
   "execution_count": 16,
   "metadata": {},
   "outputs": [],
   "source": [
    "from sklearn.feature_extraction.text import TfidfVectorizer\n",
    "\n",
    "#Unigram\n",
    "vec_TF_IDF = TfidfVectorizer(ngram_range=(1,1))\n",
    "vec_TF_IDF.fit(X)\n",
    "\n",
    "x_tf_idf = vec_TF_IDF.transform(X)"
   ]
  },
  {
   "cell_type": "code",
   "execution_count": 17,
   "metadata": {},
   "outputs": [
    {
     "data": {
      "text/plain": [
       "5083"
      ]
     },
     "execution_count": 17,
     "metadata": {},
     "output_type": "execute_result"
    }
   ],
   "source": [
    "len(vec_TF_IDF.vocabulary_)"
   ]
  },
  {
   "cell_type": "code",
   "execution_count": 18,
   "metadata": {},
   "outputs": [
    {
     "data": {
      "text/plain": [
       "((3400, 5083),\n",
       " (600, 5083),\n",
       " (3400,),\n",
       " 1309    1\n",
       " 1104    3\n",
       " 55      2\n",
       " 1369    4\n",
       " 1505    1\n",
       "        ..\n",
       " 1956    1\n",
       " 2345    4\n",
       " 3501    1\n",
       " 1542    2\n",
       " 1404    3\n",
       " Name: label, Length: 600, dtype: int32)"
      ]
     },
     "execution_count": 18,
     "metadata": {},
     "output_type": "execute_result"
    }
   ],
   "source": [
    "from sklearn.model_selection import train_test_split\n",
    "\n",
    "X_train, X_test, y_train, y_test = train_test_split(x_tf_idf,y, test_size=0.15)\n",
    "# X_val,y_val, X_test,y_test = train_test_split(X_test,y_test, test_size=0.5)\n",
    "\n",
    "X_train.shape, X_test.shape, y_train.shape,y_test"
   ]
  },
  {
   "cell_type": "code",
   "execution_count": 19,
   "metadata": {},
   "outputs": [
    {
     "data": {
      "text/plain": [
       "{'objective': 'binary:logistic',\n",
       " 'use_label_encoder': False,\n",
       " 'base_score': None,\n",
       " 'booster': None,\n",
       " 'callbacks': None,\n",
       " 'colsample_bylevel': None,\n",
       " 'colsample_bynode': None,\n",
       " 'colsample_bytree': None,\n",
       " 'early_stopping_rounds': None,\n",
       " 'enable_categorical': False,\n",
       " 'eval_metric': None,\n",
       " 'gamma': None,\n",
       " 'gpu_id': None,\n",
       " 'grow_policy': None,\n",
       " 'importance_type': None,\n",
       " 'interaction_constraints': None,\n",
       " 'learning_rate': None,\n",
       " 'max_bin': None,\n",
       " 'max_cat_to_onehot': None,\n",
       " 'max_delta_step': None,\n",
       " 'max_depth': None,\n",
       " 'max_leaves': None,\n",
       " 'min_child_weight': None,\n",
       " 'missing': nan,\n",
       " 'monotone_constraints': None,\n",
       " 'n_estimators': 100,\n",
       " 'n_jobs': None,\n",
       " 'num_parallel_tree': None,\n",
       " 'predictor': None,\n",
       " 'random_state': None,\n",
       " 'reg_alpha': None,\n",
       " 'reg_lambda': None,\n",
       " 'sampling_method': None,\n",
       " 'scale_pos_weight': None,\n",
       " 'subsample': None,\n",
       " 'tree_method': None,\n",
       " 'validate_parameters': None,\n",
       " 'verbosity': None}"
      ]
     },
     "execution_count": 19,
     "metadata": {},
     "output_type": "execute_result"
    }
   ],
   "source": [
    "import xgboost\n",
    "xgboost.XGBClassifier().get_params()"
   ]
  },
  {
   "cell_type": "code",
   "execution_count": 20,
   "metadata": {},
   "outputs": [],
   "source": [
    "# from sklearn.model_selection import GridSearchCV\n",
    "# def hyperParameterTuning(X_train, y_train):\n",
    "#     param_tuning = {\n",
    "#         'learning_rate': [0.01, 0.1],\n",
    "#         'max_depth': [3, 5, 7, 10],\n",
    "#         'min_child_weight': [1, 3, 5],\n",
    "#         'subsample': [0.5, 0.7],\n",
    "#         'colsample_bytree': [0.5, 0.7],\n",
    "#         'n_estimators' : [100, 200, 500],\n",
    "#         'objective': ['reg:squarederror']\n",
    "#     }\n",
    "\n",
    "#     xgb_model = xgboost.XGBClassifier()\n",
    "\n",
    "#     gsearch = GridSearchCV(estimator = xgb_model,\n",
    "#                            param_grid = param_tuning,                        \n",
    "#                            #scoring = 'neg_mean_absolute_error', #MAE\n",
    "#                            #scoring = 'neg_mean_squared_error',  #MSE\n",
    "#                            cv = 5,\n",
    "#                            n_jobs = -1,\n",
    "#                            verbose = 1)\n",
    "\n",
    "#     gsearch.fit(X_train,y_train)\n",
    "\n",
    "#     return gsearch.best_params_\n",
    "\n",
    "# hyperParameterTuning(X_train,y_train)"
   ]
  },
  {
   "cell_type": "code",
   "execution_count": 21,
   "metadata": {},
   "outputs": [],
   "source": [
    "from tabnanny import verbose\n",
    "\n",
    "\n",
    "xgb_model = xgboost.XGBClassifier(colsample_bytree = 0.5,\n",
    "                                  learning_rate =0.01,\n",
    "                                  max_depth=10,\n",
    "                                  min_child_weight= 1,\n",
    "                                  n_estimators= 500,\n",
    "                                  objective= 'reg:squarederror',\n",
    "                                  subsample= 0.5,\n",
    "                                  eval_metric = 'auc',\n",
    "                                  verbose=True)"
   ]
  },
  {
   "cell_type": "code",
   "execution_count": 22,
   "metadata": {},
   "outputs": [
    {
     "name": "stdout",
     "output_type": "stream",
     "text": [
      "[00:57:24] WARNING: C:/Users/administrator/workspace/xgboost-win64_release_1.6.0/src/learner.cc:627: \n",
      "Parameters: { \"verbose\" } might not be used.\n",
      "\n",
      "  This could be a false alarm, with some parameters getting used by language bindings but\n",
      "  then being mistakenly passed down to XGBoost core, or some parameter actually being used\n",
      "  but getting flagged wrongly here. Please open an issue if you find any such cases.\n",
      "\n",
      "\n"
     ]
    }
   ],
   "source": [
    "model = xgb_model.fit(X_train,y_train)"
   ]
  },
  {
   "cell_type": "code",
   "execution_count": 23,
   "metadata": {},
   "outputs": [],
   "source": [
    "y_predict = model.predict(X_test)"
   ]
  },
  {
   "cell_type": "code",
   "execution_count": 30,
   "metadata": {},
   "outputs": [
    {
     "data": {
      "text/plain": [
       "1309    1\n",
       "1104    3\n",
       "55      2\n",
       "1369    4\n",
       "1505    1\n",
       "       ..\n",
       "1956    1\n",
       "2345    4\n",
       "3501    1\n",
       "1542    2\n",
       "1404    3\n",
       "Name: label, Length: 600, dtype: int32"
      ]
     },
     "execution_count": 30,
     "metadata": {},
     "output_type": "execute_result"
    }
   ],
   "source": [
    "y_test"
   ]
  },
  {
   "cell_type": "code",
   "execution_count": 29,
   "metadata": {},
   "outputs": [
    {
     "data": {
      "text/plain": [
       "array([1, 3, 2, 4, 2, 4, 3, 3, 3, 4, 2, 1, 2, 1, 0, 0, 2, 3, 3, 1, 0, 4,\n",
       "       0, 2, 0, 4, 2, 3, 1, 3, 4, 2, 4, 4, 2, 1, 4, 4, 1, 3, 4, 4, 3, 2,\n",
       "       4, 2, 1, 1, 2, 4, 4, 1, 2, 4, 1, 3, 0, 4, 0, 4, 0, 4, 1, 4, 3, 4,\n",
       "       3, 2, 2, 2, 2, 3, 2, 4, 1, 2, 3, 1, 2, 3, 1, 2, 1, 2, 3, 3, 3, 4,\n",
       "       1, 2, 3, 4, 1, 1, 4, 2, 4, 4, 1, 3, 0, 4, 0, 3, 0, 4, 2, 2, 4, 2,\n",
       "       2, 3, 4, 4, 3, 1, 4, 3, 3, 1, 2, 4, 0, 3, 2, 4, 4, 3, 0, 3, 4, 1,\n",
       "       3, 3, 3, 4, 1, 4, 2, 1, 1, 4, 2, 1, 1, 0, 4, 1, 2, 1, 3, 3, 2, 4,\n",
       "       0, 1, 4, 1, 4, 3, 3, 0, 3, 4, 0, 0, 1, 1, 2, 2, 2, 2, 4, 2, 1, 2,\n",
       "       4, 2, 1, 1, 4, 1, 4, 2, 1, 3, 3, 1, 4, 0, 1, 2, 0, 3, 0, 4, 3, 0,\n",
       "       2, 1, 4, 1, 4, 4, 4, 4, 2, 0, 3, 4, 3, 2, 0, 4, 3, 0, 4, 2, 4, 1,\n",
       "       3, 1, 4, 0, 2, 4, 4, 3, 3, 2, 2, 1, 3, 2, 0, 3, 3, 4, 4, 1, 4, 4,\n",
       "       4, 4, 0, 1, 3, 3, 2, 3, 0, 3, 3, 4, 1, 0, 3, 4, 0, 4, 4, 0, 0, 4,\n",
       "       0, 2, 3, 3, 0, 1, 0, 0, 4, 4, 1, 3, 1, 4, 1, 0, 2, 2, 2, 4, 4, 1,\n",
       "       4, 0, 0, 1, 1, 0, 2, 3, 3, 0, 4, 1, 0, 2, 1, 3, 4, 1, 0, 1, 3, 3,\n",
       "       3, 1, 2, 0, 0, 3, 4, 3, 0, 2, 1, 3, 4, 4, 2, 1, 2, 0, 3, 3, 2, 1,\n",
       "       3, 3, 2, 3, 4, 4, 2, 0, 0, 1, 4, 3, 3, 1, 3, 2, 2, 4, 1, 2, 0, 2,\n",
       "       3, 0, 2, 4, 4, 4, 3, 1, 2, 3, 0, 3, 4, 2, 2, 2, 1, 2, 3, 2, 1, 0,\n",
       "       4, 4, 4, 4, 1, 0, 4, 4, 3, 3, 2, 4, 3, 3, 2, 3, 0, 3, 2, 3, 2, 3,\n",
       "       1, 2, 2, 3, 2, 2, 3, 3, 4, 1, 4, 2, 2, 2, 2, 4, 4, 4, 1, 0, 2, 0,\n",
       "       1, 2, 3, 0, 3, 4, 4, 0, 4, 3, 4, 0, 3, 3, 3, 0, 4, 0, 3, 0, 3, 1,\n",
       "       3, 2, 4, 2, 2, 4, 4, 3, 4, 1, 0, 3, 3, 0, 4, 0, 1, 2, 4, 4, 4, 0,\n",
       "       0, 3, 2, 1, 2, 2, 1, 1, 0, 1, 3, 2, 4, 2, 1, 0, 2, 2, 3, 3, 0, 0,\n",
       "       2, 1, 1, 4, 4, 4, 1, 2, 4, 2, 4, 1, 3, 1, 3, 0, 0, 2, 4, 3, 3, 4,\n",
       "       3, 4, 0, 4, 2, 0, 0, 4, 2, 4, 4, 3, 1, 1, 1, 3, 4, 4, 4, 0, 3, 2,\n",
       "       1, 2, 4, 0, 4, 0, 4, 2, 3, 1, 1, 3, 3, 4, 4, 4, 1, 4, 2, 2, 0, 4,\n",
       "       4, 4, 4, 4, 1, 2, 1, 2, 1, 4, 1, 4, 3, 4, 3, 2, 0, 4, 3, 1, 0, 4,\n",
       "       0, 0, 1, 4, 2, 4, 3, 4, 0, 3, 0, 2, 3, 0, 4, 3, 0, 0, 4, 0, 4, 3,\n",
       "       0, 1, 4, 2, 2, 3], dtype=int64)"
      ]
     },
     "execution_count": 29,
     "metadata": {},
     "output_type": "execute_result"
    }
   ],
   "source": [
    "y_predict"
   ]
  },
  {
   "cell_type": "code",
   "execution_count": 24,
   "metadata": {},
   "outputs": [],
   "source": [
    "from sklearn.metrics import classification_report\n",
    "from sklearn.metrics import confusion_matrix"
   ]
  },
  {
   "cell_type": "code",
   "execution_count": 25,
   "metadata": {},
   "outputs": [
    {
     "name": "stdout",
     "output_type": "stream",
     "text": [
      "              precision    recall  f1-score   support\n",
      "\n",
      "    industri       0.77      0.60      0.68       120\n",
      "pemerintahan       0.76      0.69      0.73       113\n",
      "      perang       0.76      0.80      0.78       112\n",
      "    properti       0.87      0.85      0.86       131\n",
      "   teknologi       0.63      0.81      0.71       124\n",
      "\n",
      "    accuracy                           0.75       600\n",
      "   macro avg       0.76      0.75      0.75       600\n",
      "weighted avg       0.76      0.75      0.75       600\n",
      "\n"
     ]
    }
   ],
   "source": [
    "print(classification_report(y_test,y_predict,target_names=le.classes_))"
   ]
  },
  {
   "cell_type": "code",
   "execution_count": 26,
   "metadata": {},
   "outputs": [
    {
     "data": {
      "text/plain": [
       "[Text(0, 0.5, 'industri'),\n",
       " Text(0, 1.5, 'pemerintahan'),\n",
       " Text(0, 2.5, 'perang'),\n",
       " Text(0, 3.5, 'properti'),\n",
       " Text(0, 4.5, 'teknologi')]"
      ]
     },
     "execution_count": 26,
     "metadata": {},
     "output_type": "execute_result"
    },
    {
     "data": {
      "image/png": "[encoded data removed]",
      "text/plain": [
       "<Figure size 720x504 with 2 Axes>"
      ]
     },
     "metadata": {
      "needs_background": "light"
     },
     "output_type": "display_data"
    }
   ],
   "source": [
    "fig, ax = plt.subplots(figsize=(10,7))\n",
    "sns.heatmap(confusion_matrix(y_test,y_predict),annot=True,ax=ax)\n",
    "ax.set_xlabel('Predicted labels');ax.set_ylabel('True labels'); \n",
    "ax.set_title('Confusion Matrix'); \n",
    "ax.xaxis.set_ticklabels(le.classes_)\n",
    "ax.yaxis.set_ticklabels(le.classes_)"
   ]
  },
  {
   "cell_type": "code",
   "execution_count": 28,
   "metadata": {},
   "outputs": [],
   "source": [
    "model.save_model('model/xgboost-model.json')"
   ]
  },
  {
   "cell_type": "code",
   "execution_count": null,
   "metadata": {},
   "outputs": [],
   "source": []
  }
 ],
 "metadata": {
  "kernelspec": {
   "display_name": "Python 3.9.0 64-bit (system)",
   "language": "python",
   "name": "python3"
  },
  "language_info": {
   "codemirror_mode": {
    "name": "ipython",
    "version": 3
   },
   "file_extension": ".py",
   "mimetype": "text/x-python",
   "name": "python",
   "nbconvert_exporter": "python",
   "pygments_lexer": "ipython3",
   "version": "3.9.0"
  },
  "orig_nbformat": 4,
  "vscode": {
   "interpreter": {
    "hash": "6fff98fc3b3d81bd655c2cc48858186e4d9e2db7b515bf1c3221888f12a62f87"
   }
  }
 },
 "nbformat": 4,
 "nbformat_minor": 2
}
